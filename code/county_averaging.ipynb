{
 "cells": [
  {
   "cell_type": "markdown",
   "metadata": {},
   "source": [
    "This notebook is to get county-level data by averaging all stations with the same FIPS code "
   ]
  },
  {
   "cell_type": "code",
   "execution_count": null,
   "metadata": {},
   "outputs": [],
   "source": [
    "import pandas as pd\n",
    "from MI_info import FIPS_to_county"
   ]
  },
  {
   "cell_type": "code",
   "execution_count": null,
   "metadata": {},
   "outputs": [],
   "source": [
    "# Load data\n",
    "filename = '../data/data_separated/temperature/tmax_1900-2023.csv'\n",
    "df = pd.read_csv(filename)\n",
    "df = df.drop('Unnamed: 0', axis=1)\n",
    "df.head()"
   ]
  },
  {
   "cell_type": "code",
   "execution_count": null,
   "metadata": {},
   "outputs": [],
   "source": [
    "county_means = df.groupby(['date','FIPS'])['value'].mean()"
   ]
  },
  {
   "cell_type": "code",
   "execution_count": null,
   "metadata": {},
   "outputs": [],
   "source": [
    "display(county_means)"
   ]
  },
  {
   "cell_type": "code",
   "execution_count": null,
   "metadata": {},
   "outputs": [],
   "source": [
    "# Create the new, county-level DataFrame\n",
    "county_df = pd.DataFrame(\n",
    "    columns=['FIPS','county_name','date','value']\n",
    ")"
   ]
  },
  {
   "cell_type": "code",
   "execution_count": null,
   "metadata": {},
   "outputs": [],
   "source": [
    "county_df"
   ]
  },
  {
   "cell_type": "code",
   "execution_count": null,
   "metadata": {},
   "outputs": [],
   "source": [
    "i = 0\n",
    "for date, fips in county_means.index:\n",
    "    if i % 10000 == 0: print(f'Working on {i}...')\n",
    "    value = county_means.loc[date, fips]\n",
    "    county_name = FIPS_to_county['0' + str(fips)]\n",
    "    new_df = pd.DataFrame(\n",
    "        data = [[fips, county_name, date, value]],\n",
    "        columns=['FIPS', 'county_name', 'date', 'value']\n",
    "    )\n",
    "    county_df = pd.concat([county_df, new_df])\n",
    "    i += 1"
   ]
  },
  {
   "cell_type": "code",
   "execution_count": null,
   "metadata": {},
   "outputs": [],
   "source": [
    "county_df.sample(5)"
   ]
  },
  {
   "cell_type": "code",
   "execution_count": null,
   "metadata": {},
   "outputs": [],
   "source": [
    "# I checked (but then deleted, since it would change\n",
    "# samples on another random seed) that this is the correct \n",
    "# DataFrame\n",
    "\n",
    "# Uncomment to save as CSV\n",
    "#county_df.to_csv('../data/data_separated/temperature/county_tmax_1900-2023.csv')"
   ]
  }
 ],
 "metadata": {
  "kernelspec": {
   "display_name": ".venv (3.12.10)",
   "language": "python",
   "name": "python3"
  },
  "language_info": {
   "codemirror_mode": {
    "name": "ipython",
    "version": 3
   },
   "file_extension": ".py",
   "mimetype": "text/x-python",
   "name": "python",
   "nbconvert_exporter": "python",
   "pygments_lexer": "ipython3",
   "version": "3.12.10"
  }
 },
 "nbformat": 4,
 "nbformat_minor": 2
}
