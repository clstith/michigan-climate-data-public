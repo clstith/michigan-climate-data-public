{
 "cells": [
  {
   "cell_type": "markdown",
   "metadata": {},
   "source": [
    "This notebook is for concatening all the data from ALL the years into one CSV file, because this seems to be what works best with Tableau. "
   ]
  },
  {
   "cell_type": "code",
   "execution_count": null,
   "metadata": {},
   "outputs": [],
   "source": [
    "import pandas as pd \n",
    "import numpy as np\n",
    "from pathlib import Path"
   ]
  },
  {
   "cell_type": "code",
   "execution_count": null,
   "metadata": {},
   "outputs": [],
   "source": [
    "# Use Path object to find all relevantly-formatted CSVs\n",
    "relevant_csvs = [x for x in Path('../data').iterdir() if 'alt' in x.name]"
   ]
  },
  {
   "cell_type": "code",
   "execution_count": null,
   "metadata": {},
   "outputs": [],
   "source": [
    "master_df = pd.DataFrame()"
   ]
  },
  {
   "cell_type": "code",
   "execution_count": null,
   "metadata": {},
   "outputs": [],
   "source": [
    "# Create full concatenated DataFrame; this cell takes a while\n",
    "i = 0\n",
    "for p in relevant_csvs:\n",
    "    print(f'Working on CSV file: {p}') \n",
    "    # Read the given csv file \n",
    "    new_df = pd.read_csv(p)\n",
    "    for j in range(len(new_df)):\n",
    "        if j % 1000 == 0: print(f'Working on row {j}...')\n",
    "        master_df.loc[i, 'FIPS'] = new_df.loc[j, 'FIPS']\n",
    "        master_df.loc[i, 'date'] = new_df.loc[j, 'date']\n",
    "        master_df.loc[i, 'rainfall'] = new_df.loc[j, 'rainfall']\n",
    "        i += 1\n",
    "master_df.index.name = 'row_no'"
   ]
  },
  {
   "cell_type": "code",
   "execution_count": null,
   "metadata": {},
   "outputs": [],
   "source": [
    "master_df['FIPS'] = master_df['FIPS'].apply(np.int64).apply(str)"
   ]
  },
  {
   "cell_type": "code",
   "execution_count": null,
   "metadata": {},
   "outputs": [],
   "source": [
    "master_df.head()"
   ]
  },
  {
   "cell_type": "code",
   "execution_count": null,
   "metadata": {},
   "outputs": [],
   "source": [
    "# Uncomment to save as CSV file \n",
    "#master_df.to_csv('1900-2023_alt_formatting.csv')"
   ]
  }
 ],
 "metadata": {
  "kernelspec": {
   "display_name": "Python 3",
   "language": "python",
   "name": "python3"
  },
  "language_info": {
   "codemirror_mode": {
    "name": "ipython",
    "version": 3
   },
   "file_extension": ".py",
   "mimetype": "text/x-python",
   "name": "python",
   "nbconvert_exporter": "python",
   "pygments_lexer": "ipython3",
   "version": "3.12.4"
  }
 },
 "nbformat": 4,
 "nbformat_minor": 2
}
