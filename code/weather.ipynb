{
 "cells": [
  {
   "cell_type": "code",
   "execution_count": null,
   "id": "09c1c3c1",
   "metadata": {},
   "outputs": [],
   "source": [
    "# Importing modules\n",
    "import requests \n",
    "from my_api_info import get_noaa_token\n",
    "from bs4 import BeautifulSoup\n",
    "from time import sleep\n",
    "import re"
   ]
  },
  {
   "cell_type": "markdown",
   "id": "3be88a9f",
   "metadata": {},
   "source": [
    "### Get list of station IDs for later"
   ]
  },
  {
   "cell_type": "code",
   "execution_count": null,
   "id": "b3ca3c7c",
   "metadata": {},
   "outputs": [],
   "source": [
    "stations_url = 'https://www.ncei.noaa.gov/pub/data/ghcn/daily/ghcnd-stations.txt'\n",
    "r_stat = requests.get(stations_url)\n",
    "r_stat.status_code"
   ]
  },
  {
   "cell_type": "code",
   "execution_count": null,
   "id": "43155500",
   "metadata": {},
   "outputs": [],
   "source": [
    "stations_MI = {}\n",
    "\n",
    "# Found this by hand\n",
    "last_index = 1418\n",
    "html = r_stat.text.split(' MI ',last_index+1)\n",
    "\n",
    "# Loop through the html text and compile dict \n",
    "# with keys the GHCND station IDs, and values \n",
    "# a tuple of (latitude, longitude) of the station\n",
    "for text in html:\n",
    "    station_id = text[-37:-26]\n",
    "    lat = text[-24:-17]\n",
    "    long = text[-15:-7]\n",
    "    stations_MI[station_id] = (lat,long)\n",
    "\n",
    "# Remove last erroneous entry \n",
    "del stations_MI['GE         ']\n",
    "# Remove some middle weird entries\n",
    "del stations_MI['333  -81.75']\n",
    "del stations_MI['  -80.8242 ']\n",
    "del stations_MI['167  -81.26']\n",
    "# Removes a station that's really in OH\n",
    "del stations_MI['USC00201634']\n",
    "# Removes stations north of Upper Peninsula \n",
    "# (in Isle Royal National Park)\n",
    "del stations_MI['USC00205637']\n",
    "del stations_MI['USR0000MOJI']\n",
    "del stations_MI['USR0000MWDO']"
   ]
  },
  {
   "cell_type": "code",
   "execution_count": null,
   "id": "c3dc4630",
   "metadata": {
    "scrolled": true
   },
   "outputs": [],
   "source": [
    "## Testing\n",
    "for key in stations_MI.keys():\n",
    "    if float(stations_MI[key][0]) < 41:\n",
    "        print(key)\n",
    "        print(stations_MI[key])\n",
    "    elif float(stations_MI[key][0]) > 47.5:\n",
    "        print(key)\n",
    "        print(stations_MI[key])"
   ]
  },
  {
   "cell_type": "code",
   "execution_count": null,
   "id": "c175c6c4",
   "metadata": {},
   "outputs": [],
   "source": [
    "new_stations = {}\n",
    "\n",
    "for s in stations_MI.keys():\n",
    "    loc = stations_MI[s]\n",
    "    newloc = (float(loc[0]), float(loc[1]))\n",
    "    new_stations[s] = newloc\n",
    "print(stations_MI)"
   ]
  },
  {
   "cell_type": "code",
   "execution_count": null,
   "id": "a29230c9",
   "metadata": {},
   "outputs": [],
   "source": [
    "print(new_stations)"
   ]
  },
  {
   "cell_type": "markdown",
   "id": "1d24841e",
   "metadata": {},
   "source": [
    "### Get list of MI ZIP codes"
   ]
  },
  {
   "cell_type": "code",
   "execution_count": null,
   "id": "25c99e3d",
   "metadata": {},
   "outputs": [],
   "source": [
    "zip_url = 'https://www.zip-codes.com/state/mi.asp'\n",
    "r = requests.get(zip_url)\n",
    "r.status_code"
   ]
  },
  {
   "cell_type": "code",
   "execution_count": null,
   "id": "a42d6dfd",
   "metadata": {},
   "outputs": [],
   "source": [
    "soup = BeautifulSoup(r.content, 'html.parser')"
   ]
  },
  {
   "cell_type": "code",
   "execution_count": null,
   "id": "3563e2ce",
   "metadata": {},
   "outputs": [],
   "source": [
    "zip_list_helper = soup.body.find_all('a', string=re.compile('ZIP Code \\d'))\n",
    "MI_ZIP_list = [z.text[9:14] for z in zip_list_helper]\n",
    "MI_ZIP_list[:5]"
   ]
  },
  {
   "cell_type": "code",
   "execution_count": null,
   "id": "0dc2f2c7",
   "metadata": {},
   "outputs": [],
   "source": [
    "len(MI_ZIP_list)"
   ]
  },
  {
   "cell_type": "code",
   "execution_count": null,
   "id": "27b75321",
   "metadata": {},
   "outputs": [],
   "source": [
    "# FIPS codes in MI\n",
    "FIPS_MI = ['26049',\n",
    " '26115',\n",
    " '26081',\n",
    " '26163',\n",
    " '26021',\n",
    " '26005',\n",
    " '26125',\n",
    " '26155',\n",
    " '26091',\n",
    " '26161',\n",
    " '26077',\n",
    " '26059',\n",
    " '26045',\n",
    " '26145',\n",
    " '26093',\n",
    " '26067',\n",
    " '26065',\n",
    " '26099',\n",
    " '26147',\n",
    " '26139',\n",
    " '26151',\n",
    " '26037',\n",
    " '26015',\n",
    " '26157',\n",
    " '26063',\n",
    " '26159',\n",
    " '26075',\n",
    " '26087',\n",
    " '26023',\n",
    " '26129',\n",
    " '26027',\n",
    " '26017',\n",
    " '26025',\n",
    " '26007',\n",
    " '26057',\n",
    " '26073',\n",
    " '26123',\n",
    " '26133',\n",
    " '26009',\n",
    " '26041',\n",
    " '26149',\n",
    " '26111',\n",
    " '26039',\n",
    " '26069',\n",
    " '26107',\n",
    " '26103',\n",
    " '26143',\n",
    " '26051',\n",
    " '26071',\n",
    " '26035',\n",
    " '26011',\n",
    " '26001',\n",
    " '26121',\n",
    " '26165',\n",
    " '26117',\n",
    " '26079',\n",
    " '26043',\n",
    " '26113',\n",
    " '26141',\n",
    " '26003',\n",
    " '26031',\n",
    " '26119',\n",
    " '26033',\n",
    " '26109',\n",
    " '26127',\n",
    " '26047',\n",
    " '26105',\n",
    " '26137',\n",
    " '26095',\n",
    " '26053',\n",
    " '26135',\n",
    " '26085',\n",
    " '26055',\n",
    " '26131',\n",
    " '26029',\n",
    " '26089',\n",
    " '26097',\n",
    " '26019',\n",
    " '26083',\n",
    " '26153',\n",
    " '26013',\n",
    " '26101',\n",
    " '26000']"
   ]
  },
  {
   "cell_type": "code",
   "execution_count": null,
   "id": "0994433a",
   "metadata": {},
   "outputs": [],
   "source": [
    "print([int(f) for f in FIPS_MI])"
   ]
  },
  {
   "cell_type": "code",
   "execution_count": null,
   "id": "ad1db87c",
   "metadata": {},
   "outputs": [],
   "source": [
    "len(FIPS_MI)"
   ]
  },
  {
   "cell_type": "code",
   "execution_count": null,
   "id": "93f57f40",
   "metadata": {},
   "outputs": [],
   "source": [
    "r = requests.get(url, headers=headers, params=parameters)"
   ]
  },
  {
   "cell_type": "code",
   "execution_count": null,
   "id": "3c360722",
   "metadata": {},
   "outputs": [],
   "source": [
    "\n",
    "\n",
    "r.json()['results'][0]['station']"
   ]
  },
  {
   "cell_type": "code",
   "execution_count": null,
   "id": "089b8a87",
   "metadata": {},
   "outputs": [],
   "source": []
  },
  {
   "cell_type": "code",
   "execution_count": null,
   "id": "63afc630",
   "metadata": {
    "scrolled": true
   },
   "outputs": [],
   "source": [
    "# List which stations are in which county (FIPS code)\n",
    "station_FIPS = {}\n",
    "\n",
    "headers = {'token':get_noaa_token()}\n",
    "\n",
    "for FIPS in FIPS_MI:\n",
    "    parameters = {'datasetid':'GSOM',\n",
    "              'startdate':'2010-02-01',\n",
    "              'enddate':'2020-02-01',\n",
    "              'units':'metric',\n",
    "              'datatypeid':'PRCP',\n",
    "              'station':'GHCND:US',\n",
    "              'locationid':'FIPS:' + FIPS}\n",
    "    success = False\n",
    "    r = requests.get(url,\n",
    "                     headers=headers,\n",
    "                     params=parameters)\n",
    "    if r.status_code==200:\n",
    "        success = True\n",
    "    if success == True:\n",
    "        results = r.json()\n",
    "        if results != {}:\n",
    "            station_FIPS[FIPS]=results['results'][0]['station']\n",
    "        else:\n",
    "            station_FIPS[FIPS]=-1\n",
    "    elif success == False:\n",
    "        station_FIPS[FIPS]=-1\n",
    "    print(success)\n",
    "    print(FIPS, station_FIPS[FIPS])\n",
    "    sleep(1)"
   ]
  },
  {
   "cell_type": "code",
   "execution_count": null,
   "id": "cb379776",
   "metadata": {},
   "outputs": [],
   "source": [
    "# Add in the one FIPS code station manually\n",
    "parameters = {'datasetid':'GSOM',\n",
    "              'startdate':'2010-02-01',\n",
    "              'enddate':'2020-02-01',\n",
    "              'units':'metric',\n",
    "              'datatypeid':'PRCP',\n",
    "              'station':'GHCND:US',\n",
    "              'locationid':'FIPS:' + '26085'}\n",
    "\n",
    "r = requests.get(url,\n",
    "                 headers=headers,\n",
    "                 params=parameters)"
   ]
  },
  {
   "cell_type": "code",
   "execution_count": null,
   "id": "625634c5",
   "metadata": {},
   "outputs": [],
   "source": [
    "r.status_code"
   ]
  },
  {
   "cell_type": "markdown",
   "id": "7bfdf7b4",
   "metadata": {},
   "source": [
    "### Stations in MI, Monthly Data"
   ]
  },
  {
   "cell_type": "code",
   "execution_count": null,
   "id": "42b3ee1a",
   "metadata": {},
   "outputs": [],
   "source": [
    "base_url = 'https://www.ncei.noaa.gov/cdo-web/api/v2'"
   ]
  },
  {
   "cell_type": "code",
   "execution_count": null,
   "id": "6e7740b7",
   "metadata": {},
   "outputs": [],
   "source": [
    "extension = '/data'\n",
    "\n",
    "url = base_url + extension"
   ]
  },
  {
   "cell_type": "code",
   "execution_count": null,
   "id": "4d27ca65",
   "metadata": {},
   "outputs": [],
   "source": [
    "headers = {'token':get_noaa_token()}"
   ]
  },
  {
   "cell_type": "code",
   "execution_count": null,
   "id": "bdc991e4",
   "metadata": {},
   "outputs": [],
   "source": [
    "def check_ZIP_station(ZIP):\n",
    "    parameters = {'datasetid':'GSOM',\n",
    "                  'startdate':'2015-02-01',\n",
    "                  'enddate':'2020-02-01',\n",
    "                  'units':'metric',\n",
    "                  'datatypeid':'PRCP',\n",
    "                  'station':'GHCND:US',\n",
    "                  'locationid':'ZIP:' + ZIP}\n",
    "    r = requests.get(url,\n",
    "                     headers=headers,\n",
    "                     params=parameters)\n",
    "    return r"
   ]
  },
  {
   "cell_type": "code",
   "execution_count": null,
   "id": "fcfafaf5",
   "metadata": {},
   "outputs": [],
   "source": [
    "def check_FIP_station(FIPS):\n",
    "    parameters = {'datasetid':'GSOM',\n",
    "                  'startdate':'2015-02-01',\n",
    "                  'enddate':'2020-02-01',\n",
    "                  'units':'metric',\n",
    "                  'datatypeid':'PRCP',\n",
    "                  'station':'GHCND:US',\n",
    "                  'locationid':'FIPS:' + FIPS}\n",
    "    r = requests.get(url,\n",
    "                     headers=headers,\n",
    "                     params=parameters)\n",
    "    return r"
   ]
  },
  {
   "cell_type": "code",
   "execution_count": null,
   "id": "28dbd042",
   "metadata": {},
   "outputs": [],
   "source": [
    "a = check_FIP_station('26')"
   ]
  },
  {
   "cell_type": "code",
   "execution_count": null,
   "id": "3672e9b0",
   "metadata": {},
   "outputs": [],
   "source": [
    "a.json()['results'][0]['station'][6:] in stations_MI"
   ]
  },
  {
   "cell_type": "markdown",
   "id": "8b1a17cf",
   "metadata": {},
   "source": [
    "### API interaction"
   ]
  },
  {
   "cell_type": "code",
   "execution_count": null,
   "id": "d9e0f012",
   "metadata": {},
   "outputs": [],
   "source": [
    "base_url = 'https://www.ncei.noaa.gov/cdo-web/api/v2'"
   ]
  },
  {
   "cell_type": "code",
   "execution_count": null,
   "id": "8b170a62",
   "metadata": {},
   "outputs": [],
   "source": [
    "extension = '/data'\n",
    "\n",
    "url = base_url + extension"
   ]
  },
  {
   "cell_type": "code",
   "execution_count": null,
   "id": "6215d156",
   "metadata": {},
   "outputs": [],
   "source": [
    "headers = {'token':get_noaa_token()}"
   ]
  },
  {
   "cell_type": "code",
   "execution_count": null,
   "id": "00877d98",
   "metadata": {},
   "outputs": [],
   "source": [
    "parameters = {'datasetid':'GSOM',\n",
    "              'startdate':'2017-02-01',\n",
    "              'enddate':'2017-02-01',\n",
    "              'units':'metric',\n",
    "              'datatypeid':'PRCP',\n",
    "              'station':'GHCND:US',\n",
    "              'locationid':'48104'}"
   ]
  },
  {
   "cell_type": "code",
   "execution_count": null,
   "id": "45532391",
   "metadata": {},
   "outputs": [],
   "source": [
    "r = requests.get(url, \n",
    "                 headers=headers,\n",
    "                 params=parameters)\n",
    "r.status_code"
   ]
  },
  {
   "cell_type": "code",
   "execution_count": null,
   "id": "9808a04f",
   "metadata": {},
   "outputs": [],
   "source": [
    "r.json()"
   ]
  },
  {
   "cell_type": "markdown",
   "id": "a327539b",
   "metadata": {},
   "source": [
    "### Interpreting Results\n",
    "\n",
    "Calling the following line of Python code:\n",
    "\n",
    "`requests.get(url, headers=headers, params=parameters)`\n",
    "\n",
    "with inputs\n",
    "\n",
    "`url = https://www.ncei.noaa.gov/cdo-web/api/v2/data`\n",
    "\n",
    "`headers = {'token':'<NOAA_TOKEN>'}`\n",
    "\n",
    "`parameters = {'stationid':'GHCND:USC00173046','datasetid':'GHCND','startdate':'2017-01-01','enddate':'2017-01-31','units':'metric'}`\n",
    "\n",
    "returns a json file with the following data (truncated after one day):\n",
    "\n",
    "`{'metadata': {'resultset': {'offset': 1, 'count': 186, 'limit': 25}},\n",
    " 'results': \\[{'date': '2017-01-01T00:00:00',\n",
    "   'datatype': 'PRCP',\n",
    "   'station': 'GHCND:USC00173046',\n",
    "   'attributes': ',,7,0700',\n",
    "   'value': 6.1},\n",
    "  {'date': '2017-01-01T00:00:00',\n",
    "   'datatype': 'SNOW',\n",
    "   'station': 'GHCND:USC00173046',\n",
    "   'attributes': ',,7,',\n",
    "   'value': 76.0},\n",
    "  {'date': '2017-01-01T00:00:00',\n",
    "   'datatype': 'SNWD',\n",
    "   'station': 'GHCND:USC00173046',\n",
    "   'attributes': ',,7,',\n",
    "   'value': 279.0},\n",
    "  {'date': '2017-01-01T00:00:00',\n",
    "   'datatype': 'TMAX',\n",
    "   'station': 'GHCND:USC00173046',\n",
    "   'attributes': ',,7,0700',\n",
    "   'value': 0.6},\n",
    "  {'date': '2017-01-01T00:00:00',\n",
    "   'datatype': 'TMIN',\n",
    "   'station': 'GHCND:USC00173046',\n",
    "   'attributes': ',,7,0700',\n",
    "   'value': -13.3},\n",
    "  {'date': '2017-01-01T00:00:00',\n",
    "   'datatype': 'TOBS',\n",
    "   'station': 'GHCND:USC00173046',\n",
    "   'attributes': ',,7,0700',\n",
    "   'value': 0.6}\\]...}`\n",
    "\n",
    "The unitsof PRCP are in milimeters (mm). For example,the datatype 'PRCP' refers to precipitation in liquid form observed over the 24-hour observation period, and for Jan 1, 2017, at this station in Maine, it measured 6.1mm. The TMAX says the maximum temp that day was 0.6 Celsius, etc. "
   ]
  },
  {
   "cell_type": "markdown",
   "id": "edc268b5",
   "metadata": {},
   "source": [
    "### Some helpful API-accessing functions"
   ]
  },
  {
   "cell_type": "code",
   "execution_count": null,
   "id": "bc70880c",
   "metadata": {},
   "outputs": [],
   "source": [
    "## Getting monthly rainfall given the station ID\n",
    "## (a string beginning with US) and month (in the \n",
    "## form: YYYY-MM)\n",
    "\n",
    "def get_monthly_rainfall(station_id, month):\n",
    "    # Parse month correctly\n",
    "    start_date = month + '-01'\n",
    "    base_url = 'https://www.ncei.noaa.gov/cdo-web/api/v2'\n",
    "    extension = '/data'\n",
    "    headers = {'token':get_noaa_token()}\n",
    "    parameters = {'stationid':'GHCND:' + station_id,\n",
    "              'datasetid':'GSOM',\n",
    "              'startdate':start_date,\n",
    "              'enddate':start_date,\n",
    "              'units':'metric',\n",
    "              'datatypeid':'PRCP'}\n",
    "    url = base_url + extension\n",
    "    r = requests.get(url, \n",
    "                 headers=headers,\n",
    "                 params=parameters)\n",
    "    print('GHCND:' + station_id)\n",
    "    print(r.status_code)\n",
    "    print(start_date)\n",
    "    if r.status_code != 200:\n",
    "        return -1\n",
    "    # Empty dicts evaluate to False\n",
    "    if bool(r.json()):\n",
    "        value = r.json()['results'][0]['value']\n",
    "    else:\n",
    "        value = -1\n",
    "    return value"
   ]
  },
  {
   "cell_type": "code",
   "execution_count": null,
   "id": "4867a9dc",
   "metadata": {},
   "outputs": [],
   "source": [
    "get_monthly_rainfall('US1MIAN0018','2017-02')"
   ]
  },
  {
   "cell_type": "code",
   "execution_count": null,
   "id": "1490e67d",
   "metadata": {},
   "outputs": [],
   "source": [
    "# Let's write a function that returns all station data \n",
    "# (PRCP) in Michigan for input month\n",
    "# MI is FIPS:26\n",
    "# Month input in YYYY-MM format\n",
    "headers = {'token':get_noaa_token()}\n",
    "base_url = 'https://www.ncei.noaa.gov/cdo-web/api/v2'\n",
    "extension = '/data'\n",
    "url = base_url + extension\n",
    "\n",
    "def get_PRCP_MI(month):\n",
    "    startdate = month + '-01'\n",
    "    parameters = {'datasetid':'GSOM',\n",
    "                  'startdate':startdate,\n",
    "                  'enddate':startdate,\n",
    "                  'units':'metric',\n",
    "                  'datatypeid':'PRCP',\n",
    "                  'station':'GHCND:US',\n",
    "                  'locationid':'FIPS:' + '26',\n",
    "                  'limit':400}\n",
    "    r = requests.get(url,\n",
    "                     headers=headers,\n",
    "                     params=parameters)\n",
    "    return r"
   ]
  },
  {
   "cell_type": "code",
   "execution_count": null,
   "id": "439e7880",
   "metadata": {},
   "outputs": [],
   "source": [
    "r = get_PRCP_MI('2020-01')"
   ]
  },
  {
   "cell_type": "code",
   "execution_count": null,
   "id": "a1e5dffd",
   "metadata": {},
   "outputs": [],
   "source": [
    "r.json()"
   ]
  },
  {
   "cell_type": "markdown",
   "id": "7cea478b",
   "metadata": {},
   "source": [
    "# Visualization"
   ]
  },
  {
   "cell_type": "code",
   "execution_count": null,
   "id": "705c8598",
   "metadata": {},
   "outputs": [],
   "source": [
    "import matplotlib.pyplot as plt\n",
    "import numpy as np"
   ]
  },
  {
   "cell_type": "code",
   "execution_count": null,
   "id": "34dd0ae9",
   "metadata": {},
   "outputs": [],
   "source": [
    "## First, let's just plot every station in MI\n",
    "\n",
    "fig = plt.figure(figsize=(8,6),\n",
    "                 dpi=200)\n",
    "\n",
    "ax = fig.add_subplot()\n",
    "\n",
    "latitudes = []\n",
    "longitudes = []\n",
    "for key in stations_MI.keys():\n",
    "    longitudes.append(float(stations_MI[key][1]))\n",
    "    latitudes.append(float(stations_MI[key][0]))\n",
    "    \n",
    "ax.scatter(longitudes,\n",
    "           latitudes,\n",
    "           label='Station',\n",
    "           color='dodgerblue',\n",
    "           s=40,\n",
    "           alpha=0.5,\n",
    "           edgecolor='white',\n",
    "           linewidth=0.5)\n",
    "\n",
    "# longitude/latitude limits of Michigan\n",
    "ax.set_xlim([-90.5,-82])\n",
    "ax.set_ylim([41.5,47.75])\n",
    "\n",
    "# Niceties\n",
    "ax.set_xlabel(\"Longitude (E/W)\")\n",
    "ax.set_ylabel(\"Latitude (N/S)\")\n",
    "plt.legend()\n",
    "plt.title\n",
    "\n",
    "# plt.savefig('MI_map.png',\n",
    "#             format='png')\n",
    "\n",
    "plt.show()"
   ]
  },
  {
   "cell_type": "markdown",
   "id": "4f22e6c1",
   "metadata": {},
   "source": [
    "#### alpha of point proportional to rainfall in month"
   ]
  },
  {
   "cell_type": "code",
   "execution_count": null,
   "id": "aa21e217",
   "metadata": {},
   "outputs": [],
   "source": [
    "# Now, let's plot every station in MI, with size equal to \n",
    "# the monthly rainfall for the month of 2023-01\n",
    "\n",
    "# First, we need to figure out which stations have this data.\n",
    "r = get_PRCP_MI('2023-01')"
   ]
  },
  {
   "cell_type": "code",
   "execution_count": null,
   "id": "d4e2b92f",
   "metadata": {},
   "outputs": [],
   "source": [
    "# Here is a list of stations in this data (remember,\n",
    "# rainfal is in mm)\n",
    "stat_with_data = [(d['station'], d['value']) for d in r.json()['results']]\n",
    "stat_with_data[:5]"
   ]
  },
  {
   "cell_type": "code",
   "execution_count": null,
   "id": "b94e8884",
   "metadata": {},
   "outputs": [],
   "source": [
    "# Get relevant latitude/longitude\n",
    "lats = []\n",
    "lngs = []\n",
    "for entry in stat_with_data:\n",
    "    stat_id = entry[0][6:]\n",
    "    entry_lat = stations_MI[stat_id][0]\n",
    "    entry_lng = stations_MI[stat_id][1]\n",
    "    lats.append(float(entry_lat))\n",
    "    lngs.append(float(entry_lng))"
   ]
  },
  {
   "cell_type": "code",
   "execution_count": null,
   "id": "14e31378",
   "metadata": {},
   "outputs": [],
   "source": [
    "# Get values of rainfall for each station\n",
    "rain_vals = [d[1] for d in stat_with_data]\n",
    "rain_vals[:5]"
   ]
  },
  {
   "cell_type": "code",
   "execution_count": null,
   "id": "ae2796bb",
   "metadata": {},
   "outputs": [],
   "source": [
    "# Check the arrays have all the same sizes\n",
    "print(len(lats)==len(lngs))\n",
    "print(len(lats)==len(rain_vals))"
   ]
  },
  {
   "cell_type": "code",
   "execution_count": null,
   "id": "28ccf738",
   "metadata": {},
   "outputs": [],
   "source": [
    "# Rescale rainfalls to be between 0 and 1 (divide\n",
    "# by minimum) so they can be used for alphas\n",
    "alpha_vals = np.array(rain_vals)/max(rain_vals)"
   ]
  },
  {
   "cell_type": "code",
   "execution_count": null,
   "id": "01c230f0",
   "metadata": {},
   "outputs": [],
   "source": [
    "# Plotting \n",
    "fig = plt.figure(figsize=(8,6),\n",
    "                 dpi=100)\n",
    "\n",
    "ax = fig.add_subplot()\n",
    "\n",
    "ax.scatter(lngs,\n",
    "           lats,\n",
    "           color='dodgerblue',\n",
    "           s=80,\n",
    "           edgecolor='white',\n",
    "           linewidth=0.1,\n",
    "           alpha=alpha_vals,\n",
    "           label='station')\n",
    "\n",
    "\n",
    "plt.show()"
   ]
  },
  {
   "cell_type": "code",
   "execution_count": null,
   "id": "553fe457",
   "metadata": {
    "scrolled": false
   },
   "outputs": [],
   "source": [
    "# Another plot, with colors depending on rainfall\n",
    "# Plotting \n",
    "fig = plt.figure(figsize=(8,6),\n",
    "                 dpi=100)\n",
    "\n",
    "#ax = fig.add_subplot()\n",
    "\n",
    "plt.scatter(lngs,\n",
    "           lats,\n",
    "           c=alpha_vals,\n",
    "           cmap='Blues',\n",
    "           s=100,\n",
    "           edgecolor='white',\n",
    "           linewidth=0.1,\n",
    "           alpha=1,\n",
    "           label='station')\n",
    "\n",
    "plt.colorbar(label='Rainfall',\n",
    "             location='left')\n",
    "\n",
    "plt.legend()\n",
    "plt.show()"
   ]
  },
  {
   "cell_type": "code",
   "execution_count": null,
   "id": "388d3db5",
   "metadata": {},
   "outputs": [],
   "source": [
    "import cartopy.crs as ccrs\n",
    "import numpy as np\n",
    "import cartopy.feature as cfeature\n",
    "import cartopy.io.shapereader as shapereader\n",
    "import pandas as pd\n",
    "from metpy.cbook import get_test_data"
   ]
  },
  {
   "cell_type": "code",
   "execution_count": null,
   "id": "5daa829e",
   "metadata": {},
   "outputs": [],
   "source": [
    "get_test_data('us_counties_20m.shp', as_file_obj=False)\n",
    "get_test_data('us_counties_20m.shx', as_file_obj=False)\n",
    "get_test_data('us_counties_20m.dbf', as_file_obj=False)"
   ]
  },
  {
   "cell_type": "code",
   "execution_count": null,
   "id": "caee930f",
   "metadata": {},
   "outputs": [],
   "source": [
    "# Make a function to return a dict of monthly rainfall in FIPS code\n",
    "headers = {'token':get_noaa_token()}\n",
    "base_url = 'https://www.ncei.noaa.gov/cdo-web/api/v2'\n",
    "extension = '/data'\n",
    "url = base_url + extension\n",
    "\n",
    "def mo_rfl_cty(date, code):\n",
    "    startdate = date + '-01'\n",
    "    parameters = {'datasetid':'GSOM',\n",
    "                  'startdate':startdate,\n",
    "                  'enddate':startdate,\n",
    "                  'units':'metric',\n",
    "                  'datatypeid':'PRCP',\n",
    "                  'station':'GHCND:US',\n",
    "                  'locationid':'FIPS:' + code,\n",
    "                  'limit':400}\n",
    "    r = requests.get(url,\n",
    "                     headers=headers,\n",
    "                     params=parameters)\n",
    "    return "
   ]
  },
  {
   "cell_type": "code",
   "execution_count": null,
   "id": "4abcdb5d",
   "metadata": {},
   "outputs": [],
   "source": [
    "mo_rfl_cty('2020-01', '26095').json()"
   ]
  },
  {
   "cell_type": "code",
   "execution_count": null,
   "id": "bc1b9a3f",
   "metadata": {},
   "outputs": [],
   "source": [
    "counties = shapereader.Reader(get_test_data('us_counties_20m.shp', as_file_obj=False))"
   ]
  },
  {
   "cell_type": "code",
   "execution_count": null,
   "id": "202ca543",
   "metadata": {},
   "outputs": [],
   "source": [
    "next(counties.records()).attributes"
   ]
  },
  {
   "cell_type": "code",
   "execution_count": null,
   "id": "3c65a015",
   "metadata": {},
   "outputs": [],
   "source": [
    "# With only one API access call, get all MI county stations rainfall \n",
    "\n",
    "month = '2020-01'\n",
    "\n",
    "headers = {'token':get_noaa_token()}\n",
    "base_url = 'https://www.ncei.noaa.gov/cdo-web/api/v2'\n",
    "extension = '/data'\n",
    "url = base_url + extension\n",
    "\n",
    "rfall_MI = get_PRCP_MI(month)"
   ]
  },
  {
   "cell_type": "code",
   "execution_count": null,
   "id": "eef99310",
   "metadata": {},
   "outputs": [],
   "source": [
    "[entry['station'] for entry in rfall_MI.json()['results']]"
   ]
  },
  {
   "cell_type": "code",
   "execution_count": null,
   "id": "62a85def",
   "metadata": {},
   "outputs": [],
   "source": [
    "station_FIPS.values()"
   ]
  },
  {
   "cell_type": "code",
   "execution_count": null,
   "id": "e22c46ae",
   "metadata": {
    "scrolled": true
   },
   "outputs": [],
   "source": [
    "for station in station_FIPS.values():\n",
    "    is_in = station in [entry['station'] for entry in rfall_MI.json()['results']]\n",
    "    print(is_in)"
   ]
  },
  {
   "cell_type": "code",
   "execution_count": null,
   "id": "b877a85c",
   "metadata": {},
   "outputs": [],
   "source": [
    "# Make a dictionary mapping county geometry to amount of rainfall\n",
    "county_rainfall = {rec.geometry:1\n",
    "                   for rec in counties.records()}"
   ]
  },
  {
   "cell_type": "code",
   "execution_count": null,
   "id": "0b59063f",
   "metadata": {},
   "outputs": [],
   "source": [
    "def color_rain(geom):\n",
    "    rfall = county_rainfall.get(geom)\n",
    "    if rfall > 0: \n",
    "        cmap = plt.get_cmap('Blues')\n",
    "        norm = plt.Normalize(0,500)\n",
    "        facecolor = cmap(norm(rfall))\n",
    "    else:\n",
    "        facecolor = 'none'\n",
    "    return {'edgecolor':'black', 'facecolor':facecolor}"
   ]
  },
  {
   "cell_type": "code",
   "execution_count": null,
   "id": "9e18f747",
   "metadata": {},
   "outputs": [],
   "source": [
    "fig = plt.figure(figsize=(8,6))\n",
    "\n",
    "ax = fig.add_subplot(projection=ccrs.LambertConformal())\n",
    "\n",
    "ax.add_feature(cfeature.COASTLINE)\n",
    "ax.add_feature(cfeature.STATES)\n",
    "ax.add_geometries(counties.geometries(),\n",
    "                  ccrs.PlateCarree(),\n",
    "                  styler=color_rain)\n",
    "ax.set_extent((-91, -82, 41, 48))\n",
    "\n",
    "plt.show()"
   ]
  },
  {
   "cell_type": "code",
   "execution_count": null,
   "id": "e7b8043c",
   "metadata": {},
   "outputs": [],
   "source": [
    "station_FIPS"
   ]
  },
  {
   "cell_type": "code",
   "execution_count": null,
   "id": "f8b40a86",
   "metadata": {},
   "outputs": [],
   "source": []
  }
 ],
 "metadata": {
  "kernelspec": {
   "display_name": ".venv (3.12.10)",
   "language": "python",
   "name": "python3"
  },
  "language_info": {
   "codemirror_mode": {
    "name": "ipython",
    "version": 3
   },
   "file_extension": ".py",
   "mimetype": "text/x-python",
   "name": "python",
   "nbconvert_exporter": "python",
   "pygments_lexer": "ipython3",
   "version": "3.12.10"
  }
 },
 "nbformat": 4,
 "nbformat_minor": 5
}
