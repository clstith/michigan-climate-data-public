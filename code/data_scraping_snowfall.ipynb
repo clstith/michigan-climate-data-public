{
 "cells": [
  {
   "cell_type": "code",
   "execution_count": null,
   "metadata": {},
   "outputs": [],
   "source": [
    "import requests \n",
    "from my_api_info import get_noaa_token\n",
    "from time import sleep\n",
    "import numpy as np\n",
    "import pandas as pd"
   ]
  },
  {
   "cell_type": "code",
   "execution_count": null,
   "metadata": {},
   "outputs": [],
   "source": [
    "def get_month_snowfall(YYYY_MM: str) -> requests.models.Response:\n",
    "    \"\"\"\n",
    "    Given an input string representing a month (in the format \n",
    "    YYYY-MM, e.g. '2024-01' for January of 2024), returns Response\n",
    "    from NOAA API with desired monthly snowfall for each MI \n",
    "    station.\n",
    "    \"\"\"\n",
    "    # Desired date range\n",
    "    start_date = YYYY_MM + '-01'\n",
    "\n",
    "    # API specifications\n",
    "    base_url = 'https://www.ncei.noaa.gov/cdo-web/api/v2'\n",
    "    extension = '/data'\n",
    "    url = base_url + extension\n",
    "\n",
    "    headers = {'token':get_noaa_token()}\n",
    "    parameters = {'datasetid':'GSOM',\n",
    "                'startdate':start_date,\n",
    "                'enddate':start_date,\n",
    "                'units':'metric',\n",
    "                'datatypeid':'SNOW',\n",
    "                'station':'GHCND:US',\n",
    "                'locationid':'FIPS:' + '26',\n",
    "                'limit':1000,\n",
    "                'includemetadata':'false'}\n",
    "    r = requests.get(url,\n",
    "                    headers=headers,\n",
    "                    params=parameters)\n",
    "\n",
    "    return r"
   ]
  },
  {
   "cell_type": "code",
   "execution_count": null,
   "metadata": {},
   "outputs": [],
   "source": [
    "# Create the DataFrame which will store all the rainfall data\n",
    "master_df = pd.DataFrame(\n",
    "    [],\n",
    "    index=pd.Index([], name='station'),\n",
    "    columns=pd.Index([], name='date')\n",
    ")\n",
    "master_df.index.name = 'station'"
   ]
  },
  {
   "cell_type": "code",
   "execution_count": null,
   "metadata": {},
   "outputs": [],
   "source": [
    "# This is the main scraping loop. Just modify the starting \n",
    "# segment of the YYYY and the range.\n",
    "\n",
    "failed_months = 0\n",
    "\n",
    "for j in range(80, 100):\n",
    "    YYYY = '19' + str(j)\n",
    "    for i in range(1,13):\n",
    "        # NOAA API requests limited to 5 per second; I'm \n",
    "        # just being cautious here\n",
    "        sleep(1)\n",
    "\n",
    "        if i < 10: \n",
    "            MM = '0' + str(i)\n",
    "        else:\n",
    "            MM = str(i)\n",
    "        YYYY_MM = YYYY + '-' + MM\n",
    "        r = get_month_snowfall(YYYY_MM)\n",
    "        status_code = r.status_code\n",
    "        print(f'Year {j} Month {i}: {status_code}')\n",
    "\n",
    "        if status_code == 200: # Make sure we've succeeded in our request\n",
    "            # Create DataFrame\n",
    "            df = pd.DataFrame.from_dict(r.json()['results'])\n",
    "            df = df.drop(['datatype', 'attributes'], axis=1)\n",
    "            df['date'] = df['date'].apply(lambda s : s.split('T')[0][:-3])\n",
    "            # Check for duplicates in the station IDs\n",
    "            dups_list = [x for x in df.station.duplicated() if x == True]\n",
    "            if dups_list != []: \n",
    "                print(f'When i = {i}, found duplicate stations!!')\n",
    "            # Rearrange DataFrame\n",
    "            df = df.pivot(index='station', columns='date', values='value') \n",
    "\n",
    "            # Add DataFrame to master_df, looping through newly-found df\n",
    "            for station in df.index: \n",
    "                master_df.loc[station, YYYY_MM] = df.loc[station, YYYY_MM]  \n",
    "\n",
    "        else: # If there was an error in accessing the API \n",
    "            # First wait a bit and then try again; then just add NaN \n",
    "            print(f'Retrying {YYYY_MM}...')\n",
    "            sleep(5)\n",
    "            r = get_month_snowfall(YYYY_MM)\n",
    "            status_code = r.status_code\n",
    "            print(f'Year {j} Month {i}: {status_code}')\n",
    "\n",
    "            if status_code == 200: # Make sure we've succeeded in our request\n",
    "                # Create DataFrame\n",
    "                df = pd.DataFrame.from_dict(r.json()['results'])\n",
    "                df = df.drop(['datatype', 'attributes'], axis=1)\n",
    "                df['date'] = df['date'].apply(lambda s : s.split('T')[0][:-3])\n",
    "                # Check for duplicates in the station IDs\n",
    "                dups_list = [x for x in df.station.duplicated() if x == True]\n",
    "                if dups_list != []: \n",
    "                    print(f'When i = {i}, found duplicate stations!!')\n",
    "                # Rearrange DataFrame\n",
    "                df = df.pivot(index='station', columns='date', values='value') \n",
    "\n",
    "                # Add DataFrame to master_df, looping through newly-found df\n",
    "                for station in df.index: \n",
    "                    master_df.loc[station, YYYY_MM] = df.loc[station, YYYY_MM]  \n",
    "\n",
    "            else: # Second time it fails, add NaNs\n",
    "                for station in master_df.index:\n",
    "                    master_df.loc[station, YYYY_MM] = np.nan\n",
    "                print(f'Inserting NaN column to master_df for {YYYY_MM}')\n",
    "                failed_months += 1\n",
    "\n",
    "    "
   ]
  },
  {
   "cell_type": "code",
   "execution_count": null,
   "metadata": {},
   "outputs": [],
   "source": [
    "print(f'There were {failed_months} failed months.')"
   ]
  },
  {
   "cell_type": "code",
   "execution_count": null,
   "metadata": {},
   "outputs": [],
   "source": [
    "# Display final DataFrame\n",
    "master_df.head(10)"
   ]
  },
  {
   "cell_type": "code",
   "execution_count": null,
   "metadata": {},
   "outputs": [],
   "source": [
    "# uncomment to save as CSV file\n",
    "#master_df.to_csv('../data/1980-1999_snowfall.csv')"
   ]
  }
 ],
 "metadata": {
  "kernelspec": {
   "display_name": ".venv (3.12.10)",
   "language": "python",
   "name": "python3"
  },
  "language_info": {
   "codemirror_mode": {
    "name": "ipython",
    "version": 3
   },
   "file_extension": ".py",
   "mimetype": "text/x-python",
   "name": "python",
   "nbconvert_exporter": "python",
   "pygments_lexer": "ipython3",
   "version": "3.12.10"
  }
 },
 "nbformat": 4,
 "nbformat_minor": 2
}
