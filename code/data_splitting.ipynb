{
 "cells": [
  {
   "cell_type": "markdown",
   "metadata": {},
   "source": [
    "This notebook is for splitting the bulk raw data into data sets for the rainfall, tmin, tmax, and snowfall"
   ]
  },
  {
   "cell_type": "code",
   "execution_count": null,
   "metadata": {},
   "outputs": [],
   "source": [
    "import pandas as pd\n",
    "from pathlib import Path"
   ]
  },
  {
   "cell_type": "code",
   "execution_count": null,
   "metadata": {},
   "outputs": [],
   "source": [
    "# path of bulk data\n",
    "p = Path('../data/bulk_data/1900-2023_bulk.csv')"
   ]
  },
  {
   "cell_type": "code",
   "execution_count": null,
   "metadata": {},
   "outputs": [],
   "source": [
    "bulk_df = pd.read_csv(p)\n",
    "bulk_df = bulk_df.drop('Unnamed: 0', axis=1)\n",
    "bulk_df.head(5)"
   ]
  },
  {
   "cell_type": "code",
   "execution_count": null,
   "metadata": {},
   "outputs": [],
   "source": [
    "# create the separate DataFrames\n",
    "prcp_df = bulk_df[bulk_df['data_type'] == 'PRCP']\n",
    "snow_df = bulk_df[bulk_df['data_type'] == 'SNOW']\n",
    "tmin_df = bulk_df[bulk_df['data_type'] == 'TMIN']\n",
    "tmax_df = bulk_df[bulk_df['data_type'] == 'TMAX']\n",
    "\n",
    "prcp_df = prcp_df.reset_index(drop=True)\n",
    "snow_df = snow_df.reset_index(drop=True)\n",
    "tmin_df = tmin_df.reset_index(drop=True)\n",
    "tmax_df = tmax_df.reset_index(drop=True)"
   ]
  },
  {
   "cell_type": "code",
   "execution_count": null,
   "metadata": {},
   "outputs": [],
   "source": [
    "# Check them all\n",
    "prcp_df.head()"
   ]
  },
  {
   "cell_type": "code",
   "execution_count": null,
   "metadata": {},
   "outputs": [],
   "source": [
    "snow_df.head()"
   ]
  },
  {
   "cell_type": "code",
   "execution_count": null,
   "metadata": {},
   "outputs": [],
   "source": [
    "tmin_df.head()"
   ]
  },
  {
   "cell_type": "code",
   "execution_count": null,
   "metadata": {},
   "outputs": [],
   "source": [
    "tmax_df.head()"
   ]
  },
  {
   "cell_type": "code",
   "execution_count": null,
   "metadata": {},
   "outputs": [],
   "source": [
    "# Drop the data_type col, it is now redundant\n",
    "prcp_df = prcp_df.drop('data_type', axis=1)\n",
    "snow_df = snow_df.drop('data_type', axis=1)\n",
    "tmin_df = tmin_df.drop('data_type', axis=1)\n",
    "tmax_df = tmax_df.drop('data_type', axis=1)"
   ]
  },
  {
   "cell_type": "code",
   "execution_count": null,
   "metadata": {},
   "outputs": [],
   "source": [
    "# Uncomment to save as CSV\n",
    "# prcp_df.to_csv('../data/data_separated/rainfall/prcp_1900-2023.csv')\n",
    "# snow_df.to_csv('../data/data_separated/snowfall/snow_1900-2023.csv')\n",
    "# tmin_df.to_csv('../data/data_separated/temperature/tmin_1900-2023.csv')\n",
    "# tmax_df.to_csv('../data/data_separated/temperature/tmax_1900-2023.csv')"
   ]
  },
  {
   "cell_type": "code",
   "execution_count": null,
   "metadata": {},
   "outputs": [],
   "source": []
  }
 ],
 "metadata": {
  "kernelspec": {
   "display_name": "Python 3",
   "language": "python",
   "name": "python3"
  },
  "language_info": {
   "codemirror_mode": {
    "name": "ipython",
    "version": 3
   },
   "file_extension": ".py",
   "mimetype": "text/x-python",
   "name": "python",
   "nbconvert_exporter": "python",
   "pygments_lexer": "ipython3",
   "version": "3.12.4"
  }
 },
 "nbformat": 4,
 "nbformat_minor": 2
}
